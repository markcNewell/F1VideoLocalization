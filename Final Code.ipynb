{
 "cells": [
  {
   "cell_type": "markdown",
   "metadata": {},
   "source": [
    "# Setup"
   ]
  },
  {
   "cell_type": "markdown",
   "metadata": {},
   "source": [
    "Download the dataset from:<br>\n",
    "https://drive.google.com/drive/folders/1oErX5yyCVNwuRNXayIdXwdD5EomZk16s?usp=sharing<br><br>\n",
    "Get COLMAP from this link (windows-no-cuda), extract it and save it in a new folder called 'Colmap':<br>\n",
    "https://github.com/colmap/colmap/releases/tag/3.6<br><br>\n",
    "Before running, check that your folder structure looks like:<br>\n",
    "<ul>\n",
    "<li>Final Code.ipynb</li>\n",
    "<li>Colmap</li>\n",
    "<li>Models</li>\n",
    "<li>Req</li>\n",
    "<li>Utils</li>\n",
    "</ul>"
   ]
  },
  {
   "cell_type": "markdown",
   "metadata": {},
   "source": [
    "# Monte Carlo Localization Method"
   ]
  },
  {
   "cell_type": "code",
   "execution_count": 1,
   "metadata": {},
   "outputs": [],
   "source": [
    "import numpy as np\n",
    "import scipy\n",
    "import cv2\n",
    "from sklearn.cluster import KMeans\n",
    "import os\n",
    "import pandas as pd\n",
    "import Utils.ConvNet as ConvNet\n",
    "import Utils.Video as Video\n",
    "import pickle\n",
    "\n",
    "import matplotlib.pyplot as plt"
   ]
  },
  {
   "cell_type": "code",
   "execution_count": 2,
   "metadata": {},
   "outputs": [],
   "source": [
    "class Particle:\n",
    "    def __init__(self, location, movement_map, weight, index):\n",
    "        self.location = tuple(location)\n",
    "        self.movement_map = movement_map\n",
    "        self.weight = weight\n",
    "        self.index = int(index)\n",
    "        \n",
    "    def move(self, d_scale=4, v_scale=.2):\n",
    "        possible_locations = list(self.movement_map.keys())\n",
    "        #Find closest value in movement map\n",
    "        distances = scipy.spatial.distance.cdist([self.location], possible_locations)\n",
    "        \n",
    "        key = possible_locations[np.argmin(distances[0])]\n",
    "        \n",
    "        start = np.array(key)\n",
    "        end = np.array(movement_map[key]) + np.random.normal(size=2, scale=v_scale)\n",
    "        \n",
    "        \n",
    "        d = scipy.spatial.distance.euclidean(start, end) + np.random.normal(scale=d_scale)\n",
    "        a = self.calculate_initial_compass_bearing(tuple(start), tuple(end))\n",
    "\n",
    "        x2 = start[0] + d*np.sin(a)\n",
    "        y2 = start[1] + d*np.cos(a)\n",
    "        \n",
    "        self.location = (x2, y2)\n",
    "        \n",
    "        \n",
    "    def calculate_initial_compass_bearing(self, pointA, pointB):\n",
    "        \n",
    "        delta_x = pointB[0] - pointA[0]\n",
    "        delta_y = pointB[1] - pointA[1]        \n",
    "\n",
    "        theta = np.degrees(np.arctan2(np.abs(delta_y), np.abs(delta_x)))\n",
    "        \n",
    "        if ((delta_x < 0) & (delta_y > 0)):\n",
    "            theta += 270\n",
    "        elif ((delta_x < 0) & (delta_y < 0)):\n",
    "            theta = 270 - theta\n",
    "        elif ((delta_x > 0) & (delta_y < 0)):\n",
    "            theta += 90\n",
    "        else:\n",
    "            theta = 90 - theta\n",
    "\n",
    "        return np.radians(theta)"
   ]
  },
  {
   "cell_type": "code",
   "execution_count": 3,
   "metadata": {},
   "outputs": [],
   "source": [
    "def create_particles(n, possible_locations, weightings, movement_map):\n",
    "    indicies = range(len(possible_locations))\n",
    "    particles = [Particle(possible_locations[j], movement_map, 1/n, j) for i, j in enumerate(np.random.choice(indicies, replace=True, size=n, p=weightings))]\n",
    "    return particles"
   ]
  },
  {
   "cell_type": "code",
   "execution_count": 5,
   "metadata": {},
   "outputs": [],
   "source": [
    "def load_images(loc, dataset_loc=\"../Dataset\"):\n",
    "    df = pd.read_csv(loc, sep=' ', names=['location', 'x', 'y', 'z'])\n",
    "    df['location'] = df['location'].apply(lambda x: os.path.join(dataset_loc, x))\n",
    "    df['location'] = df['location'].apply(lambda x: x.replace('\\\\', '/'))\n",
    "    return df"
   ]
  },
  {
   "cell_type": "code",
   "execution_count": 6,
   "metadata": {},
   "outputs": [],
   "source": [
    "def calculate_tpr(labels, y_test, maxi=100):\n",
    "    thresholds = np.linspace(0, maxi, num=100)\n",
    "    tprs = np.array([])\n",
    "\n",
    "    for thre in thresholds:\n",
    "        tpr = 0\n",
    "        for i in range(len(labels)):\n",
    "            difference = scipy.spatial.distance.euclidean(labels[i], y_test[i])\n",
    "            if (difference < thre):\n",
    "                tpr += 1\n",
    "\n",
    "        tprs = np.append(tprs, tpr/len(labels))\n",
    "        \n",
    "    return tprs, thresholds"
   ]
  },
  {
   "cell_type": "code",
   "execution_count": 7,
   "metadata": {},
   "outputs": [],
   "source": [
    "def calculate_average_position(locations, weights, movement_map, thr=1):\n",
    "    return np.average(locations, weights=weights, axis=0)"
   ]
  },
  {
   "cell_type": "code",
   "execution_count": 8,
   "metadata": {},
   "outputs": [],
   "source": [
    "def nearest_neighbor_classify(train_image_feats, train_labels, test_image_feats, metric='braycurtis'):\n",
    "\n",
    "    distances = scipy.spatial.distance.cdist(test_image_feats, train_image_feats, metric)   \n",
    "        \n",
    "    return 1 - (distances/np.max(distances))"
   ]
  },
  {
   "cell_type": "code",
   "execution_count": 9,
   "metadata": {},
   "outputs": [],
   "source": [
    "def build_vocabulary(image_paths, vocab_size, detector_function, params, dim, mask=None, grayed=True, dimentionality_reduction=False):\n",
    "\n",
    "    features = np.array([]).reshape((-1, dim))\n",
    "    \n",
    "    # Initiate detector\n",
    "    detector = detector_function(**params)\n",
    "    \n",
    "    for i, path in enumerate(image_paths):\n",
    "        \n",
    "        if grayed:\n",
    "            image = cv2.cvtColor(cv2.imread(path), cv2.COLOR_BGR2GRAY)\n",
    "        else:\n",
    "            image = cv2.cvtColor(cv2.imread(path), cv2.COLOR_BGR2RGB)\n",
    "        \n",
    "        if mask is not None:\n",
    "            image = cv2.bitwise_and(image, image, mask = mask)\n",
    "\n",
    "        # compute the descriptors      \n",
    "        kps, des = detector.detectAndCompute(image, None)\n",
    "    \n",
    "        \n",
    "        if not des is None:\n",
    "            features = np.vstack([features, des])\n",
    "            \n",
    "            \n",
    "    if dimentionality_reduction == True:\n",
    "        features, trans = ConvNet.dimentionalityReduction(features)\n",
    "        \n",
    "        #Do clustering\n",
    "        km = KMeans(n_clusters=vocab_size).fit(features)\n",
    "        \n",
    "        return km.cluster_centers_, trans\n",
    "    \n",
    "    else:      \n",
    "\n",
    "        #Do clustering\n",
    "        km = KMeans(n_clusters=vocab_size).fit(features)\n",
    "\n",
    "        return km.cluster_centers_"
   ]
  },
  {
   "cell_type": "code",
   "execution_count": 10,
   "metadata": {},
   "outputs": [],
   "source": [
    "def get_bags_of_words(image_paths, detector_function, params, mask=None, grayed=True, transformer=None, vocab_file='vocab.npy', max_features=1000, pyramid_levels=2):\n",
    "    \n",
    "    # load vocabulary\n",
    "    vocab = np.load(vocab_file)\n",
    "    \n",
    "    # dummy features variable\n",
    "    features = np.array([]).reshape(-1, len(vocab) * sum(int(4**i) for i in range(0, pyramid_levels)))\n",
    "    \n",
    "    # Initiate detector\n",
    "    detector = detector_function(**params)\n",
    "\n",
    "    for path in image_paths:\n",
    "        image_hist = np.array([])        \n",
    "        \n",
    "        if type(path) == str:\n",
    "            #Loads in image\n",
    "            if grayed:\n",
    "                image = cv2.cvtColor(cv2.imread(path), cv2.COLOR_BGR2GRAY)\n",
    "            else:\n",
    "                image = cv2.cvtColor(cv2.imread(path), cv2.COLOR_BGR2RGB)\n",
    "        else:\n",
    "            image = path\n",
    "            \n",
    "\n",
    "        for i in range(1, pyramid_levels + 1):\n",
    "            subdivisions = int((2**i)/2)\n",
    "            \n",
    "            for j in range(0, subdivisions):\n",
    "                for k in range(0, subdivisions):\n",
    "                    height = (image.shape[0]//subdivisions)\n",
    "                    width = (image.shape[1]//subdivisions)\n",
    "                    \n",
    "                    #Get the part of the image to calculate on\n",
    "                    level = image[(j * height):((j + 1) * height), (k * width):((k + 1) * width)]\n",
    "                    hist = np.zeros((len(vocab)))\n",
    "            \n",
    "                    # compute the descriptors\n",
    "                    kps, des = detector.detectAndCompute(image, None)\n",
    "\n",
    "                    if not transformer is None:\n",
    "                        des = transformer.transform(des)\n",
    "\n",
    "                    if not des is None:\n",
    "                        try:\n",
    "                            sorted_descriptions = sorted(zip(des,kps), key=lambda x: x[1].response)[:max_features]\n",
    "                        except:\n",
    "                            sorted_descriptions = list(zip(des,kps))[:max_features]\n",
    "\n",
    "                        for feature, kp in sorted_descriptions:\n",
    "                            distances = scipy.spatial.distance.cdist([feature], vocab, 'cosine')\n",
    "                            i = np.argmin(distances[0])\n",
    "\n",
    "                            hist[i] += 1\n",
    "                    \n",
    "                    image_hist = np.append(image_hist, hist)\n",
    "            \n",
    "        features = np.vstack([features, image_hist])\n",
    "        \n",
    "    return features"
   ]
  },
  {
   "cell_type": "code",
   "execution_count": 11,
   "metadata": {},
   "outputs": [],
   "source": [
    "def calculate_movement_per(loc1, loc2, movement_map):\n",
    "    possible_locations = list(movement_map.keys())\n",
    "    #Find closest value in movement map\n",
    "    distances = scipy.spatial.distance.cdist([loc1], possible_locations)\n",
    "\n",
    "    key = possible_locations[np.argmin(distances[0])]\n",
    "\n",
    "    start = np.array(key)\n",
    "    end = np.array(movement_map[key])\n",
    "\n",
    "\n",
    "    d1 = scipy.spatial.distance.euclidean(start, end)\n",
    "    d2 = scipy.spatial.distance.euclidean(loc1, loc2)\n",
    "\n",
    "    return d2/d1"
   ]
  },
  {
   "cell_type": "markdown",
   "metadata": {},
   "source": [
    "## First Time Setup"
   ]
  },
  {
   "cell_type": "code",
   "execution_count": 13,
   "metadata": {},
   "outputs": [],
   "source": [
    "#Point dataset_loc to the relative path of the dataset you downloaded at the start\n",
    "images = load_images('./Req/movement_map_locations.txt', dataset_loc='../Dataset')\n",
    "movement_map = {}\n",
    "\n",
    "for i, row in images.iterrows():\n",
    "    if not i >= len(images)-1:\n",
    "        next_row = images.iloc[i+1]\n",
    "        movement_map[(row['x'], row['y'])] = (next_row['x'], next_row['y'])\n",
    "        \n",
    "with open('Models/movement_map.pickle', 'wb') as handle:\n",
    "    pickle.dump(movement_map, handle)"
   ]
  },
  {
   "cell_type": "markdown",
   "metadata": {},
   "source": [
    "## Running"
   ]
  },
  {
   "cell_type": "code",
   "execution_count": 12,
   "metadata": {},
   "outputs": [],
   "source": [
    "#Point this to the directory of the dataset downloaded from https://drive.google.com/drive/folders/1oErX5yyCVNwuRNXayIdXwdD5EomZk16s?usp=sharing\n",
    "images = load_images('../Dataset/Locations/locations.txt', dataset_loc='../Dataset')\n",
    "\n",
    "X_train, y_train = images['location'], list(zip(images['x'], images['y']))"
   ]
  },
  {
   "cell_type": "code",
   "execution_count": 13,
   "metadata": {},
   "outputs": [],
   "source": [
    "params = dict(nOctaveLayers=3, contrastThreshold=0.04, edgeThreshold=7, sigma=1.8)\n",
    "train_image_feats = get_bags_of_words(X_train, cv2.SIFT_create, params, vocab_file='./Models/vocab-sift-1000.npy')\n",
    "\n",
    "with open('Models/movement_map.pickle', 'rb') as handle:\n",
    "    movement_map = pickle.load(handle)"
   ]
  },
  {
   "cell_type": "code",
   "execution_count": 14,
   "metadata": {},
   "outputs": [],
   "source": [
    "def main(video, localized_points=None, iterations=5, radius_thre=6, d_scale=4, v_scale=.2):\n",
    "    X_test, y_test = Video.load_video_to_frames(video, step=6)\n",
    "    \n",
    "    test_image_feats = get_bags_of_words(X_test, cv2.SIFT_create, params, vocab_file='./Models/vocab-sift-1000.npy')\n",
    "    \n",
    "    #Create a threshold to know what counts as an important particle\n",
    "\n",
    "    #Test images\n",
    "    test_images = X_test\n",
    "\n",
    "    #All locations of train images\n",
    "    possible_locations = y_train\n",
    "\n",
    "    #Initialize Particles randomly\n",
    "    n_particles = 50\n",
    "\n",
    "    best_roc = 0\n",
    "    best_locations = None\n",
    "    \n",
    "    for x in range(iterations):\n",
    "        location = []\n",
    "        \n",
    "        #particles = create_particles(200, possible_locations, np.full(len(possible_locations), 1/len(possible_locations)), movement_map)\n",
    "        particles = create_particles(100, [[249.0, 173.0]], [1], movement_map)\n",
    "\n",
    "        for i in range(0, len(test_images[:])):\n",
    "\n",
    "            #Motion update\n",
    "            for particle in particles:\n",
    "                particle.move(d_scale=d_scale, v_scale=v_scale)\n",
    "\n",
    "\n",
    "\n",
    "            #Sensor update, pass image through image retrieval to get probability weightings\n",
    "            weightings = nearest_neighbor_classify(train_image_feats, y_train, [test_image_feats[i]])[0]\n",
    "\n",
    "            particle_weights = np.array([])\n",
    "\n",
    "            for particle in particles:\n",
    "                useful = weightings[scipy.spatial.distance.cdist([particle.location], np.array(possible_locations))[0] < radius_thre]\n",
    "\n",
    "                if (len(useful) > 0):\n",
    "                    particle_weights = np.append(particle_weights, (np.sum(useful)/len(useful)))\n",
    "                else:\n",
    "                    particle_weights = np.append(particle_weights, 0.0000001)\n",
    "\n",
    "            #Robust likelyhood equation\n",
    "\n",
    "\n",
    "            particle_weights = particle_weights/np.sum(particle_weights)\n",
    "\n",
    "\n",
    "            #Calculate average position and weightings\n",
    "            locations = np.array([]).reshape(-1,2)\n",
    "            weights = np.array([])\n",
    "            indexes = np.array([])\n",
    "            for particle in particles:\n",
    "                locations = np.vstack([locations, particle.location])\n",
    "                weights = np.append(weights, particle.weight)\n",
    "                indexes = np.append(indexes, particle.index)\n",
    "\n",
    "\n",
    "\n",
    "            location.append(calculate_average_position(locations, particle_weights, movement_map))\n",
    "\n",
    "\n",
    "            #Select strong particles\n",
    "            particles = create_particles(n_particles, locations, particle_weights, movement_map)       \n",
    "\n",
    "\n",
    "        if localized_points is None:\n",
    "            localized_points = np.arange(len(y_test))\n",
    "\n",
    "        t, r = calculate_tpr(np.array(location)[localized_points], np.array(y_test)[localized_points], maxi=20)\n",
    "        \n",
    "        if (best_roc < t[50]):\n",
    "            best_locations = location\n",
    "            \n",
    "    return best_locations, y_test"
   ]
  },
  {
   "cell_type": "markdown",
   "metadata": {},
   "source": [
    "# Crash Videos"
   ]
  },
  {
   "cell_type": "code",
   "execution_count": 15,
   "metadata": {},
   "outputs": [
    {
     "data": {
      "image/png": "[encoded data removed]",
      "text/plain": [
       "<Figure size 432x288 with 1 Axes>"
      ]
     },
     "metadata": {
      "needs_background": "light"
     },
     "output_type": "display_data"
    },
    {
     "data": {
      "image/png": "[encoded data removed]",
      "text/plain": [
       "<Figure size 432x288 with 1 Axes>"
      ]
     },
     "metadata": {
      "needs_background": "light"
     },
     "output_type": "display_data"
    },
    {
     "data": {
      "image/png": "[encoded data removed]",
      "text/plain": [
       "<Figure size 432x288 with 1 Axes>"
      ]
     },
     "metadata": {
      "needs_background": "light"
     },
     "output_type": "display_data"
    },
    {
     "name": "stdout",
     "output_type": "stream",
     "text": [
      "[0.         0.         0.         0.01052632 0.02398534 0.02749411\n",
      " 0.02749411 0.0415292  0.04503797 0.0475825  0.06709482 0.08055384\n",
      " 0.08818743 0.09932979 0.12782812 0.14089896 0.15555009 0.16511217\n",
      " 0.20436468 0.21890187 0.24010842 0.25719014 0.27670247 0.2913536\n",
      " 0.31290834 0.33049218 0.34163454 0.34660966 0.35617173 0.36720016\n",
      " 0.38173736 0.40221392 0.43626344 0.45481152 0.47285749 0.50740912\n",
      " 0.52437691 0.54886436 0.55989278 0.56594608 0.58156146 0.59112353\n",
      " 0.59960743 0.61510887 0.61861764 0.63558543 0.6475781  0.65255322\n",
      " 0.65860653 0.65860653 0.67071313 0.67676643 0.67931096 0.68185549\n",
      " 0.69542844 0.70402627 0.7090014  0.72353859 0.7295919  0.73807579\n",
      " 0.74158456 0.74763787 0.74763787 0.74763787 0.7562357  0.77331742\n",
      " 0.77829255 0.7858122  0.79333185 0.80944934 0.82194412 0.82946377\n",
      " 0.84315066 0.84315066 0.84812578 0.85310091 0.85564544 0.86062056\n",
      " 0.86062056 0.86316509 0.87068474 0.8757738  0.88340739 0.88849645\n",
      " 0.89613004 0.89867457 0.89867457 0.90619422 0.90619422 0.90873875\n",
      " 0.9162584  0.91880293 0.92377806 0.93395617 0.9365007  0.93904523\n",
      " 0.94158976 0.94413429 0.94413429 0.94413429]\n"
     ]
    }
   ],
   "source": [
    "videos = ['../Dataset/Videos/crash#1.mp4', '../Dataset/Videos/crash#2.mp4', '../Dataset/Videos/crash#3.mp4']\n",
    "localized_points = [[0,  1,  2,  3,  4,  5,  6,  7,  8,  9,  10,  11,  12,  13,  14,  15,  16,  17,  18,  19,  20,  21,  22,  23,  24,  25,  26,  27,  28,  29,  30,  31,  32,  33,  34,  36,  37,  39,  40,  44,  45,  46,  47,  48,  49,  50,  51,  52,  55,  57,  58,  59,  60,  61,  62,  63,  64,  65,  66,  67,  68,  69,  70,  71,  72,  73,  74,  75,  76,  77,  78,  79,  80,  81,  82,  83,  84,  85,  86,  87,  88,  89,  90,  91,  92,  93,  94,  95,  96,  97,  98,  99,  100,  101,  102],[0, 1, 2, 3, 4, 5, 6, 7, 8, 9, 10, 11, 12, 13, 14, 15, 16, 17, 18, 19, 20, 21, 22, 23, 24, 25, 26, 27, 28, 29, 30, 32, 33, 34, 37, 38, 39, 40, 41, 42, 43, 44, 45, 46, 47, 48, 49, 50, 51, 52, 53, 54, 55, 56, 57, 58, 59, 60, 61, 62, 63, 64, 65, 66, 67, 68, 69, 70, 71, 72, 73, 74, 75, 76, 77, 78, 79, 80, 81, 82, 83, 84, 85, 86, 87, 88, 89, 90, 91, 92, 93, 94, 95, 96, 97, 98, 99, 100, 101, 102, 103, 104, 105, 106, 107, 108, 109, 110, 111, 112, 113, 114, 115, 116, 117, 118, 119, 120, 121, 122, 123, 124, 126, 127, 128, 129, 130, 131, 132, 133, 134], [0, 1, 2, 3, 4, 5, 6, 7, 8, 9, 10, 11, 12, 13, 14, 15, 16, 17, 18, 19, 20, 21, 22, 23, 24, 25, 26, 27, 28, 29, 30, 31, 32, 33, 34, 35, 36, 37, 38, 39, 40, 41, 42, 43, 44, 45, 46, 47, 48, 49, 50, 51, 52, 53, 54, 55, 56, 60, 61, 62, 63, 64, 65, 66, 67, 68, 69]]\n",
    "vals = np.array([]).reshape(-1, 100)\n",
    "\n",
    "for i,video in enumerate(videos):    \n",
    "\n",
    "    location, y_test = main(video, localized_points=np.array(localized_points[i]), iterations=10, radius_thre=8, d_scale=3, v_scale=0.1)\n",
    "\n",
    "    t, r = calculate_tpr(np.array(location)[np.array(localized_points[i])], np.array(y_test)[np.array(localized_points[i])], maxi=20)\n",
    "\n",
    "    plt.plot(np.array(y_test)[np.array(localized_points[i]),0], np.array(y_test)[np.array(localized_points[i]),1], c='black')\n",
    "    plt.plot(np.array(location)[np.array(localized_points[i]),0], np.array(location)[np.array(localized_points[i]),1], c='red')\n",
    "    plt.show()\n",
    "\n",
    "    vals = np.vstack([vals, t])\n",
    "    \n",
    "print(np.mean(vals, axis=0))"
   ]
  },
  {
   "cell_type": "markdown",
   "metadata": {},
   "source": [
    "# Dry Race"
   ]
  },
  {
   "cell_type": "code",
   "execution_count": 16,
   "metadata": {},
   "outputs": [
    {
     "data": {
      "image/png": "[encoded data removed]",
      "text/plain": [
       "<Figure size 432x288 with 1 Axes>"
      ]
     },
     "metadata": {
      "needs_background": "light"
     },
     "output_type": "display_data"
    },
    {
     "name": "stdout",
     "output_type": "stream",
     "text": [
      "[0.    0.    0.032 0.048 0.048 0.048 0.056 0.08  0.08  0.088 0.096 0.128\n",
      " 0.152 0.152 0.176 0.216 0.24  0.256 0.272 0.304 0.32  0.344 0.352 0.392\n",
      " 0.416 0.448 0.464 0.48  0.504 0.52  0.536 0.56  0.592 0.616 0.64  0.648\n",
      " 0.656 0.656 0.656 0.672 0.672 0.672 0.68  0.68  0.68  0.68  0.688 0.688\n",
      " 0.696 0.72  0.744 0.744 0.744 0.752 0.76  0.76  0.768 0.784 0.792 0.8\n",
      " 0.8   0.808 0.808 0.808 0.816 0.824 0.824 0.824 0.824 0.832 0.832 0.832\n",
      " 0.832 0.832 0.832 0.832 0.832 0.832 0.832 0.832 0.832 0.832 0.832 0.84\n",
      " 0.84  0.84  0.84  0.84  0.84  0.848 0.848 0.848 0.848 0.848 0.848 0.848\n",
      " 0.848 0.856 0.856 0.856]\n"
     ]
    },
    {
     "data": {
      "image/png": "[encoded data removed]",
      "text/plain": [
       "<Figure size 432x288 with 1 Axes>"
      ]
     },
     "metadata": {
      "needs_background": "light"
     },
     "output_type": "display_data"
    },
    {
     "name": "stdout",
     "output_type": "stream",
     "text": [
      "[0.         0.         0.01342282 0.02684564 0.04026846 0.05369128\n",
      " 0.0738255  0.10738255 0.12080537 0.14765101 0.18120805 0.18791946\n",
      " 0.20805369 0.22818792 0.28187919 0.29530201 0.31543624 0.33557047\n",
      " 0.3557047  0.36241611 0.39597315 0.4295302  0.46308725 0.48322148\n",
      " 0.4966443  0.51006711 0.52348993 0.53020134 0.55704698 0.5704698\n",
      " 0.59060403 0.60402685 0.60402685 0.60402685 0.61073826 0.61744966\n",
      " 0.62416107 0.6442953  0.65100671 0.65771812 0.67785235 0.7114094\n",
      " 0.73825503 0.73825503 0.74496644 0.75167785 0.77852349 0.79194631\n",
      " 0.79865772 0.79865772 0.79865772 0.81208054 0.83221477 0.83221477\n",
      " 0.83892617 0.84563758 0.85234899 0.86577181 0.87919463 0.89932886\n",
      " 0.90604027 0.91275168 0.91275168 0.91946309 0.93959732 0.93959732\n",
      " 0.93959732 0.93959732 0.93959732 0.95302013 0.95973154 0.95973154\n",
      " 0.95973154 0.95973154 0.95973154 0.95973154 0.95973154 0.95973154\n",
      " 0.96644295 0.97315436 0.97986577 0.97986577 0.97986577 0.97986577\n",
      " 0.98657718 0.98657718 0.98657718 0.99328859 1.         1.\n",
      " 1.         1.         1.         1.         1.         1.\n",
      " 1.         1.         1.         1.        ]\n"
     ]
    },
    {
     "data": {
      "image/png": "[encoded data removed]",
      "text/plain": [
       "<Figure size 432x288 with 1 Axes>"
      ]
     },
     "metadata": {
      "needs_background": "light"
     },
     "output_type": "display_data"
    },
    {
     "name": "stdout",
     "output_type": "stream",
     "text": [
      "[0.         0.00746269 0.01492537 0.02985075 0.05223881 0.07462687\n",
      " 0.15671642 0.17910448 0.20895522 0.25373134 0.29104478 0.3358209\n",
      " 0.34328358 0.36567164 0.3880597  0.41791045 0.43283582 0.45522388\n",
      " 0.47761194 0.49253731 0.49253731 0.5        0.52238806 0.54477612\n",
      " 0.56716418 0.58955224 0.60447761 0.6119403  0.61940299 0.61940299\n",
      " 0.63432836 0.64179104 0.64179104 0.64179104 0.64179104 0.64925373\n",
      " 0.64925373 0.65671642 0.67164179 0.67910448 0.68656716 0.70149254\n",
      " 0.70895522 0.71641791 0.7238806  0.73134328 0.73134328 0.73880597\n",
      " 0.74626866 0.75373134 0.76119403 0.76119403 0.76119403 0.76119403\n",
      " 0.76865672 0.76865672 0.79104478 0.79104478 0.79850746 0.79850746\n",
      " 0.79850746 0.80597015 0.80597015 0.80597015 0.80597015 0.80597015\n",
      " 0.80597015 0.80597015 0.80597015 0.80597015 0.81343284 0.81343284\n",
      " 0.81343284 0.82089552 0.82835821 0.8358209  0.8358209  0.84328358\n",
      " 0.84328358 0.84328358 0.84328358 0.84328358 0.84328358 0.84328358\n",
      " 0.84328358 0.84328358 0.84328358 0.84328358 0.84328358 0.85074627\n",
      " 0.85074627 0.85074627 0.85074627 0.85074627 0.85820896 0.85820896\n",
      " 0.85820896 0.85820896 0.85820896 0.85820896]\n",
      "[0.         0.00248756 0.02011606 0.03489879 0.04683575 0.05877271\n",
      " 0.09551397 0.12216234 0.13658686 0.16312745 0.18941761 0.21724679\n",
      " 0.23444576 0.24861985 0.28197963 0.30973749 0.32942402 0.34893145\n",
      " 0.36843888 0.38631781 0.40283682 0.42451007 0.4458251  0.47333253\n",
      " 0.49326949 0.51587312 0.53065585 0.54071388 0.56014999 0.56995759\n",
      " 0.58697746 0.6019393  0.61260596 0.62060596 0.6308431  0.63823447\n",
      " 0.64313827 0.65233724 0.6595495  0.66960753 0.6788065  0.69496731\n",
      " 0.70907009 0.71155765 0.71628235 0.72100705 0.73262226 0.73958409\n",
      " 0.74697546 0.75746302 0.76795058 0.77242486 0.77913626 0.78180293\n",
      " 0.7891943  0.79143143 0.80379792 0.81360553 0.82323403 0.83261211\n",
      " 0.83484924 0.84224061 0.84224061 0.84447775 0.85385582 0.85652249\n",
      " 0.85652249 0.85652249 0.85652249 0.86366343 0.86838813 0.86838813\n",
      " 0.86838813 0.87087569 0.87336325 0.87585081 0.87585081 0.87833838\n",
      " 0.88057551 0.88281265 0.88504978 0.88504978 0.88504978 0.88771645\n",
      " 0.88995359 0.88995359 0.88995359 0.89219072 0.89442786 0.89958209\n",
      " 0.89958209 0.89958209 0.89958209 0.89958209 0.90206965 0.90206965\n",
      " 0.90206965 0.90473632 0.90473632 0.90473632]\n"
     ]
    }
   ],
   "source": [
    "videos = ['../Dataset/Videos/dry-race#1.mp4', '../Dataset/Videos/dry-race#2.mp4', '../Dataset/Videos/dry-race#3.mp4']\n",
    "localized_points = [[0, 1, 2, 3, 4, 5, 6, 7, 8, 9, 10, 11, 12, 13, 14, 15, 16, 17, 18, 19, 20, 21, 22, 23, 24, 25, 26, 27, 28, 29, 30, 31, 32, 33, 34, 35, 36, 37, 38, 39, 41, 42, 43, 44, 45, 46, 47, 48, 50, 52, 54, 55, 56, 57, 58, 59, 60, 61, 62, 63, 64, 65, 66, 67, 68, 69, 70, 71, 72, 73, 74, 75, 77, 78, 79, 80, 81, 82, 83, 84, 85, 86, 88, 89, 90, 91, 92, 93, 94, 95, 96, 97, 98, 99, 100, 101, 102, 103, 104, 105, 106, 107, 108, 111, 112, 113, 114, 115, 116, 117, 118, 119, 122, 123, 127, 128, 129, 130, 131, 132, 133, 134, 135, 136, 137],[0, 1, 2, 3, 4, 5, 6, 7, 8, 9, 10, 11, 12, 13, 14, 15, 16, 17, 18, 19, 20, 21, 22, 23, 24, 25, 26, 27, 28, 29, 30, 31, 32, 33, 34, 35, 36, 37, 38, 39, 40, 41, 42, 43, 44, 45, 46, 47, 48, 49, 50, 51, 52, 53, 54, 55, 56, 57, 58, 59, 60, 61, 62, 63, 64, 65, 66, 67, 68, 69, 70, 71, 72, 73, 74, 75, 76, 77, 78, 79, 80, 81, 82, 83, 84, 85, 86, 87, 88, 89, 90, 91, 92, 93, 94, 95, 96, 97, 98, 99, 100, 101, 102, 103, 104, 105, 106, 107, 108, 109, 110, 111, 112, 113, 114, 115, 116, 117, 118, 119, 120, 121, 122, 123, 124, 125, 126, 127, 128, 129, 130, 131, 132, 133, 134, 135, 136, 137, 138, 139, 140, 141, 142, 143, 144, 145, 146, 147, 148],[0, 1, 2, 3, 4, 5, 6, 7, 8, 9, 10, 11, 12, 13, 14, 15, 16, 17, 18, 19, 20, 21, 22, 23, 24, 25, 26, 27, 28, 29, 30, 31, 32, 33, 34, 35, 36, 37, 38, 39, 40, 41, 43, 44, 45, 46, 47, 48, 49, 50, 58, 59, 60, 61, 62, 63, 64, 65, 66, 67, 68, 69, 70, 71, 72, 73, 74, 75, 76, 77, 78, 79, 80, 81, 82, 83, 84, 85, 86, 87, 88, 89, 90, 91, 92, 93, 94, 95, 96, 97, 98, 99, 100, 101, 102, 103, 106, 107, 108, 109, 111, 112, 113, 114, 115, 116, 117, 118, 119, 120, 121, 122, 124, 125, 126, 127, 128, 129, 130, 131, 132, 133, 134, 135, 136, 137, 138, 139, 140, 141, 142, 143, 144, 145]]\n",
    "\n",
    "vals = np.array([]).reshape(-1, 100)\n",
    "\n",
    "for i,video in enumerate(videos):\n",
    "    location, y_test = main(video, localized_points=np.array(localized_points[i]), iterations=20, radius_thre=8, d_scale=2, v_scale=0.1)\n",
    "\n",
    "    t, r = calculate_tpr(np.array(location)[np.array(localized_points[i])], np.array(y_test)[np.array(localized_points[i])], maxi=20)\n",
    "\n",
    "    plt.plot(np.array(y_test)[np.array(localized_points[i]),0], np.array(y_test)[np.array(localized_points[i]),1], c='black')\n",
    "    plt.plot(np.array(location)[np.array(localized_points[i]),0], np.array(location)[np.array(localized_points[i]),1], c='red')\n",
    "    plt.show()\n",
    "    \n",
    "    print(t)\n",
    "    \n",
    "    vals = np.vstack([vals, t])\n",
    "    \n",
    "print(np.mean(vals, axis=0))"
   ]
  },
  {
   "cell_type": "markdown",
   "metadata": {},
   "source": [
    "# Vary Speed"
   ]
  },
  {
   "cell_type": "code",
   "execution_count": 102,
   "metadata": {},
   "outputs": [
    {
     "data": {
      "image/png": "[encoded data removed]",
      "text/plain": [
       "<Figure size 432x288 with 1 Axes>"
      ]
     },
     "metadata": {
      "needs_background": "light"
     },
     "output_type": "display_data"
    },
    {
     "name": "stdout",
     "output_type": "stream",
     "text": [
      "[0.         0.         0.         0.         0.         0.\n",
      " 0.         0.         0.         0.00436681 0.00436681 0.00436681\n",
      " 0.00436681 0.00436681 0.00436681 0.00873362 0.01310044 0.01310044\n",
      " 0.01746725 0.02183406 0.02183406 0.02620087 0.0349345  0.04366812\n",
      " 0.04366812 0.04366812 0.04803493 0.04803493 0.04803493 0.04803493\n",
      " 0.04803493 0.04803493 0.05240175 0.05240175 0.06113537 0.06550218\n",
      " 0.06550218 0.06550218 0.069869   0.069869   0.08733624 0.09170306\n",
      " 0.09170306 0.09606987 0.10917031 0.11353712 0.11353712 0.12227074\n",
      " 0.12227074 0.12227074 0.12663755 0.12663755 0.13100437 0.13100437\n",
      " 0.13100437 0.13100437 0.13100437 0.13973799 0.13973799 0.1441048\n",
      " 0.14847162 0.15283843 0.15283843 0.15283843 0.15283843 0.15720524\n",
      " 0.16593886 0.16593886 0.17467249 0.17467249 0.1790393  0.1790393\n",
      " 0.18340611 0.18340611 0.18340611 0.18777293 0.20087336 0.20524017\n",
      " 0.20960699 0.21834061 0.21834061 0.21834061 0.21834061 0.21834061\n",
      " 0.21834061 0.23144105 0.23580786 0.23580786 0.23580786 0.23580786\n",
      " 0.24017467 0.24017467 0.24017467 0.2489083  0.25327511 0.26200873\n",
      " 0.27074236 0.27947598 0.28384279 0.28820961]\n"
     ]
    },
    {
     "data": {
      "image/png": "[encoded data removed]",
      "text/plain": [
       "<Figure size 432x288 with 1 Axes>"
      ]
     },
     "metadata": {
      "needs_background": "light"
     },
     "output_type": "display_data"
    },
    {
     "name": "stdout",
     "output_type": "stream",
     "text": [
      "[0.         0.         0.         0.         0.         0.\n",
      " 0.00487805 0.00487805 0.00487805 0.01463415 0.01463415 0.01463415\n",
      " 0.01463415 0.01463415 0.01463415 0.02439024 0.02926829 0.03414634\n",
      " 0.03902439 0.03902439 0.04390244 0.04390244 0.04390244 0.05365854\n",
      " 0.05853659 0.05853659 0.05853659 0.06341463 0.06829268 0.08292683\n",
      " 0.08780488 0.08780488 0.09756098 0.10243902 0.10731707 0.11219512\n",
      " 0.12195122 0.12682927 0.12682927 0.13658537 0.14634146 0.16097561\n",
      " 0.16097561 0.16097561 0.16097561 0.16585366 0.16585366 0.16585366\n",
      " 0.17073171 0.17073171 0.17073171 0.17073171 0.17073171 0.17560976\n",
      " 0.17560976 0.17560976 0.1804878  0.19512195 0.19512195 0.2\n",
      " 0.2        0.2        0.2        0.2        0.2097561  0.2195122\n",
      " 0.23414634 0.23414634 0.23902439 0.25365854 0.25853659 0.26829268\n",
      " 0.26829268 0.27317073 0.27804878 0.28292683 0.28780488 0.29268293\n",
      " 0.30243902 0.31219512 0.31219512 0.31219512 0.31219512 0.31707317\n",
      " 0.32195122 0.32682927 0.32682927 0.33170732 0.33170732 0.33170732\n",
      " 0.33170732 0.34146341 0.35121951 0.35609756 0.36585366 0.37073171\n",
      " 0.37073171 0.37073171 0.37560976 0.37560976]\n"
     ]
    },
    {
     "data": {
      "image/png": "[encoded data removed]",
      "text/plain": [
       "<Figure size 432x288 with 1 Axes>"
      ]
     },
     "metadata": {
      "needs_background": "light"
     },
     "output_type": "display_data"
    },
    {
     "name": "stdout",
     "output_type": "stream",
     "text": [
      "[0.         0.         0.         0.00606061 0.01212121 0.01212121\n",
      " 0.03030303 0.04242424 0.04242424 0.04848485 0.04848485 0.04848485\n",
      " 0.06060606 0.06666667 0.07878788 0.07878788 0.08484848 0.09090909\n",
      " 0.10909091 0.11515152 0.11515152 0.11515152 0.12121212 0.14545455\n",
      " 0.14545455 0.15151515 0.16363636 0.18181818 0.18787879 0.21818182\n",
      " 0.21818182 0.23636364 0.23636364 0.24848485 0.25454545 0.26666667\n",
      " 0.27878788 0.28484848 0.29090909 0.30909091 0.33939394 0.35151515\n",
      " 0.36969697 0.37575758 0.37575758 0.38181818 0.38787879 0.38787879\n",
      " 0.40606061 0.42424242 0.43636364 0.45454545 0.46666667 0.47878788\n",
      " 0.4969697  0.5030303  0.51515152 0.52121212 0.52727273 0.53333333\n",
      " 0.53939394 0.55151515 0.56969697 0.58787879 0.59393939 0.59393939\n",
      " 0.60606061 0.61212121 0.63636364 0.64242424 0.64848485 0.66060606\n",
      " 0.66060606 0.66666667 0.67272727 0.67878788 0.68484848 0.6969697\n",
      " 0.6969697  0.6969697  0.71515152 0.71515152 0.71515152 0.71515152\n",
      " 0.72121212 0.72121212 0.72121212 0.72121212 0.72727273 0.72727273\n",
      " 0.73333333 0.73333333 0.73333333 0.73939394 0.73939394 0.73939394\n",
      " 0.73939394 0.74545455 0.74545455 0.74545455]\n",
      "[0.         0.         0.         0.0020202  0.0040404  0.0040404\n",
      " 0.01172703 0.01576743 0.01576743 0.02249527 0.02249527 0.02249527\n",
      " 0.02653567 0.02855588 0.03259628 0.03730392 0.04240574 0.04605196\n",
      " 0.05519418 0.05866999 0.06029601 0.06175161 0.06668302 0.08092707\n",
      " 0.08255308 0.08457329 0.09006929 0.09775592 0.10140214 0.11638119\n",
      " 0.11800721 0.12406782 0.12877545 0.13444187 0.1409993  0.14812132\n",
      " 0.15541376 0.15905998 0.16253578 0.17184842 0.19102388 0.20139794\n",
      " 0.20745855 0.21093435 0.21530116 0.22040299 0.22242319 0.2253344\n",
      " 0.23302102 0.23908162 0.24457763 0.25063824 0.25613425 0.26180067\n",
      " 0.26786127 0.26988148 0.2755479  0.28535735 0.28737756 0.29247938\n",
      " 0.29595519 0.30145119 0.3075118  0.31357241 0.31884464 0.32355228\n",
      " 0.33538194 0.33740214 0.35002017 0.35691842 0.36202025 0.36931268\n",
      " 0.37076829 0.3744145  0.37806072 0.38316254 0.39117558 0.3982976\n",
      " 0.40300524 0.40916848 0.41522908 0.41522908 0.41522908 0.4168551\n",
      " 0.42050132 0.42649415 0.42794975 0.42957577 0.43159597 0.43159597\n",
      " 0.43507177 0.43832381 0.44157584 0.44813327 0.4528409  0.45737813\n",
      " 0.46028933 0.46522075 0.46830237 0.46975797]\n"
     ]
    }
   ],
   "source": [
    "videos = ['../Dataset/Videos/vary-speed#1.mp4', '../Dataset/Videos/vary-speed#2.mp4', '../Dataset/Videos/vary-speed#3.mp4']\n",
    "localized_points = [[0, 1, 2, 3, 4, 5, 6, 7, 8, 9, 10, 11, 12, 13, 14, 15, 16, 17, 18, 19, 20, 21, 22, 23, 24, 25, 26, 27, 28, 29, 30, 31, 32, 33, 34, 35, 36, 37, 38, 39, 40, 41, 42, 43, 44, 45, 46, 47, 48, 49, 50, 51, 52, 53, 54, 55, 56, 57, 58, 59, 60, 61, 62, 63, 64, 65, 66, 67, 68, 69, 70, 71, 72, 73, 74, 75, 76, 77, 78, 79, 80, 81, 82, 83, 84, 85, 86, 87, 88, 89, 90, 91, 92, 93, 94, 95, 96, 97, 98, 99, 100, 101, 102, 103, 104, 105, 106, 107, 108, 109, 110, 111, 112, 113, 114, 115, 116, 117, 118, 119, 120, 121, 122, 123, 124, 125, 126, 127, 128, 129, 130, 131, 132, 133, 134, 135, 136, 137, 138, 139, 140, 141, 142, 143, 144, 145, 146, 147, 148, 149, 150, 151, 152, 153, 154, 155, 156, 157, 158, 159, 160, 161, 162, 163, 164, 165, 166, 167, 168, 169, 170, 171, 172, 173, 174, 175, 176, 177, 178, 179, 180, 181, 182, 183, 184, 185, 186, 187, 188, 189, 190, 191, 192, 193, 194, 195, 196, 197, 198, 199, 200, 201, 202, 203, 204, 205, 206, 207, 208, 209, 210, 211, 212, 213, 214, 215, 216, 217, 218, 219, 220, 221, 222, 223, 224, 225, 226, 227, 228],[0, 1, 2, 3, 4, 5, 6, 7, 8, 9, 10, 11, 12, 13, 14, 15, 16, 17, 18, 19, 20, 21, 22, 23, 24, 25, 26, 27, 28, 29, 30, 31, 33, 34, 35, 36, 37, 38, 39, 40, 42, 43, 44, 45, 46, 47, 48, 49, 50, 51, 52, 53, 54, 55, 56, 57, 58, 59, 60, 61, 62, 63, 64, 65, 66, 67, 68, 69, 70, 71, 72, 73, 74, 75, 76, 77, 78, 79, 80, 81, 82, 83, 84, 85, 86, 87, 88, 89, 90, 91, 92, 93, 94, 95, 96, 97, 98, 99, 100, 101, 102, 103, 104, 105, 106, 107, 108, 109, 110, 111, 112, 113, 114, 115, 116, 117, 118, 119, 120, 121, 122, 123, 124, 125, 126, 127, 128, 129, 130, 131, 132, 133, 134, 135, 136, 137, 138, 139, 140, 141, 142, 143, 144, 145, 146, 147, 148, 149, 150, 151, 152, 153, 154, 155, 156, 157, 158, 159, 160, 161, 162, 163, 164, 165, 166, 167, 168, 169, 170, 171, 172, 173, 174, 175, 176, 177, 178, 179, 180, 181, 182, 183, 184, 185, 186, 187, 188, 189, 190, 191, 192, 193, 194, 195, 196, 197, 198, 199, 200, 201, 202, 203, 204, 205, 206],[0, 1, 2, 3, 4, 5, 6, 7, 8, 9, 10, 11, 12, 13, 14, 15, 16, 17, 18, 19, 20, 21, 22, 23, 24, 25, 26, 27, 28, 29, 30, 31, 32, 34, 35, 36, 37, 38, 39, 40, 41, 42, 43, 44, 45, 46, 47, 48, 49, 50, 51, 52, 53, 54, 55, 56, 61, 63, 65, 66, 67, 68, 69, 71, 72, 73, 74, 75, 76, 77, 86, 87, 88, 89, 90, 91, 92, 93, 94, 95, 96, 97, 98, 99, 100, 101, 102, 103, 104, 105, 106, 107, 108, 109, 110, 111, 112, 113, 114, 115, 116, 117, 118, 119, 120, 121, 122, 123, 124, 125, 126, 127, 128, 129, 130, 131, 132, 133, 134, 135, 136, 137, 138, 139, 140, 141, 142, 143, 144, 145, 146, 147, 148, 149, 152, 153, 154, 155, 156, 157, 158, 159, 160, 161, 162, 163, 164, 165, 166, 167, 168, 169, 170, 171, 172, 173, 174, 175, 176, 177, 178, 179, 180, 181, 182]]\n",
    "\n",
    "vals = np.array([]).reshape(-1, 100)\n",
    "\n",
    "for i,video in enumerate(videos):\n",
    "    location, y_test = main(video, localized_points=np.array(localized_points[i]), iterations=20, radius_thre=8, d_scale=2, v_scale=0.1)\n",
    "\n",
    "    t, r = calculate_tpr(np.array(location)[np.array(localized_points[i])], np.array(y_test)[np.array(localized_points[i])], maxi=20)\n",
    "\n",
    "    plt.plot(np.array(y_test)[np.array(localized_points[i]),0], np.array(y_test)[np.array(localized_points[i]),1], c='black')\n",
    "    plt.plot(np.array(location)[np.array(localized_points[i]),0], np.array(location)[np.array(localized_points[i]),1], c='red')\n",
    "    plt.show()\n",
    "\n",
    "    print(t)\n",
    "    \n",
    "    vals = np.vstack([vals, t])\n",
    "    \n",
    "print(np.mean(vals, axis=0))"
   ]
  },
  {
   "cell_type": "markdown",
   "metadata": {},
   "source": [
    "# Wet Race"
   ]
  },
  {
   "cell_type": "code",
   "execution_count": 18,
   "metadata": {},
   "outputs": [
    {
     "data": {
      "image/png": "[encoded data removed]",
      "text/plain": [
       "<Figure size 432x288 with 1 Axes>"
      ]
     },
     "metadata": {
      "needs_background": "light"
     },
     "output_type": "display_data"
    },
    {
     "name": "stdout",
     "output_type": "stream",
     "text": [
      "[0.         0.         0.03067485 0.04294479 0.09815951 0.13496933\n",
      " 0.14110429 0.17791411 0.2392638  0.26380368 0.27607362 0.29447853\n",
      " 0.32515337 0.34355828 0.35582822 0.36809816 0.38650307 0.39877301\n",
      " 0.41104294 0.41717791 0.45398773 0.46625767 0.46625767 0.47239264\n",
      " 0.47852761 0.48466258 0.50306748 0.51533742 0.51533742 0.53374233\n",
      " 0.54601227 0.55214724 0.56441718 0.56441718 0.56441718 0.57055215\n",
      " 0.57055215 0.59509202 0.60736196 0.62576687 0.63190184 0.63803681\n",
      " 0.65644172 0.68711656 0.6993865  0.73006135 0.74233129 0.75460123\n",
      " 0.76687117 0.78527607 0.79141104 0.80981595 0.82822086 0.84662577\n",
      " 0.85889571 0.86503067 0.87730061 0.88343558 0.90184049 0.91411043\n",
      " 0.9202454  0.9202454  0.9202454  0.92638037 0.93251534 0.93865031\n",
      " 0.93865031 0.93865031 0.94478528 0.94478528 0.95092025 0.96319018\n",
      " 0.96932515 0.97546012 0.98159509 0.99386503 0.99386503 0.99386503\n",
      " 0.99386503 0.99386503 1.         1.         1.         1.\n",
      " 1.         1.         1.         1.         1.         1.\n",
      " 1.         1.         1.         1.         1.         1.\n",
      " 1.         1.         1.         1.        ]\n"
     ]
    },
    {
     "data": {
      "image/png": "[encoded data removed]",
      "text/plain": [
       "<Figure size 432x288 with 1 Axes>"
      ]
     },
     "metadata": {
      "needs_background": "light"
     },
     "output_type": "display_data"
    },
    {
     "name": "stdout",
     "output_type": "stream",
     "text": [
      "[0.         0.         0.00632911 0.01898734 0.02531646 0.03164557\n",
      " 0.05063291 0.06329114 0.06962025 0.06962025 0.08227848 0.09493671\n",
      " 0.11392405 0.11392405 0.11392405 0.15822785 0.17088608 0.1835443\n",
      " 0.18987342 0.18987342 0.18987342 0.19620253 0.19620253 0.20886076\n",
      " 0.22151899 0.23417722 0.24683544 0.25949367 0.25949367 0.27848101\n",
      " 0.27848101 0.29113924 0.29746835 0.29746835 0.29746835 0.29746835\n",
      " 0.29746835 0.30379747 0.3164557  0.33544304 0.35443038 0.37341772\n",
      " 0.37341772 0.37974684 0.38607595 0.39240506 0.40506329 0.41139241\n",
      " 0.41772152 0.43037975 0.43037975 0.43670886 0.44303797 0.46202532\n",
      " 0.46835443 0.46835443 0.46835443 0.46835443 0.49367089 0.50632911\n",
      " 0.51898734 0.53164557 0.53797468 0.5443038  0.55696203 0.55696203\n",
      " 0.56329114 0.58860759 0.59493671 0.60759494 0.62025316 0.62025316\n",
      " 0.63291139 0.63924051 0.63924051 0.63924051 0.63924051 0.63924051\n",
      " 0.63924051 0.67088608 0.6835443  0.68987342 0.72151899 0.7278481\n",
      " 0.7278481  0.73417722 0.73417722 0.74683544 0.74683544 0.75316456\n",
      " 0.75316456 0.75949367 0.7721519  0.78481013 0.79113924 0.79746835\n",
      " 0.80379747 0.80379747 0.80379747 0.81012658]\n"
     ]
    },
    {
     "data": {
      "image/png": "[encoded data removed]",
      "text/plain": [
       "<Figure size 432x288 with 1 Axes>"
      ]
     },
     "metadata": {
      "needs_background": "light"
     },
     "output_type": "display_data"
    },
    {
     "name": "stdout",
     "output_type": "stream",
     "text": [
      "[0.         0.         0.         0.02469136 0.04938272 0.07407407\n",
      " 0.11728395 0.14197531 0.17283951 0.19753086 0.22222222 0.2345679\n",
      " 0.2654321  0.2962963  0.31481481 0.32098765 0.32716049 0.34567901\n",
      " 0.37037037 0.38271605 0.40740741 0.43209877 0.46296296 0.4691358\n",
      " 0.48765432 0.50617284 0.52469136 0.5308642  0.54320988 0.54320988\n",
      " 0.55555556 0.56790123 0.58024691 0.58024691 0.59876543 0.61728395\n",
      " 0.62962963 0.63580247 0.66049383 0.66666667 0.67901235 0.67901235\n",
      " 0.69753086 0.7037037  0.70987654 0.72222222 0.72839506 0.72839506\n",
      " 0.7345679  0.7345679  0.74074074 0.74074074 0.74074074 0.75925926\n",
      " 0.77160494 0.77160494 0.77777778 0.77777778 0.79012346 0.7962963\n",
      " 0.7962963  0.7962963  0.7962963  0.81481481 0.81481481 0.81481481\n",
      " 0.82098765 0.82098765 0.82716049 0.82716049 0.83333333 0.84567901\n",
      " 0.85802469 0.88271605 0.89506173 0.90123457 0.91358025 0.91358025\n",
      " 0.9382716  0.9382716  0.9382716  0.9382716  0.9382716  0.9382716\n",
      " 0.94444444 0.94444444 0.94444444 0.94444444 0.94444444 0.95061728\n",
      " 0.95679012 0.95679012 0.95679012 0.96296296 0.9691358  0.9691358\n",
      " 0.9691358  0.97530864 0.97530864 0.97530864]\n",
      "[0.         0.         0.01233465 0.0288745  0.05761956 0.08022966\n",
      " 0.10300705 0.12772685 0.16057452 0.17698493 0.19352477 0.20799438\n",
      " 0.23483651 0.25125954 0.26152236 0.28243789 0.29484988 0.30933211\n",
      " 0.32376224 0.32992246 0.35042285 0.36485299 0.37514105 0.38346307\n",
      " 0.39590031 0.40833754 0.42486476 0.43523176 0.43934699 0.45181107\n",
      " 0.46001628 0.4703959  0.48071082 0.48071082 0.48688365 0.49510148\n",
      " 0.49921671 0.51156399 0.52810383 0.54262553 0.55511486 0.56348896\n",
      " 0.57579677 0.59018903 0.59844633 0.61489621 0.62526321 0.6314629\n",
      " 0.6397202  0.65007457 0.65417718 0.66242185 0.67066652 0.68930345\n",
      " 0.69961836 0.70166335 0.70781094 0.70985593 0.72854494 0.73891195\n",
      " 0.74517635 0.74939575 0.75150546 0.76183299 0.76809739 0.77014238\n",
      " 0.7743097  0.78274852 0.78896083 0.79318024 0.80150225 0.80970745\n",
      " 0.82008708 0.83247223 0.83863244 0.84478003 0.84889526 0.84889526\n",
      " 0.85712571 0.86767424 0.87393864 0.87604834 0.88659686 0.88870657\n",
      " 0.89076418 0.89287389 0.89287389 0.8970933  0.8970933  0.90126061\n",
      " 0.90331823 0.90542793 0.90964734 0.91592436 0.92009168 0.92220139\n",
      " 0.92431109 0.9263687  0.9263687  0.92847841]\n"
     ]
    }
   ],
   "source": [
    "videos = ['../Dataset/Videos/wet-race#1.mp4', '../Dataset/Videos/wet-race#2.mp4', '../Dataset/Videos/wet-race#3.mp4']\n",
    "localized_points = [[0, 1, 2, 3, 4, 5, 6, 7, 8, 9, 10, 11, 12, 13, 14, 15, 16, 17, 18, 19, 20, 21, 22, 23, 24, 25, 26, 27, 28, 29, 30, 31, 32, 33, 34, 35, 36, 37, 38, 39, 40, 41, 42, 43, 44, 45, 46, 47, 48, 49, 50, 51, 52, 53, 54, 55, 56, 57, 58, 59, 60, 61, 62, 63, 64, 65, 66, 67, 68, 69, 70, 71, 72, 73, 74, 75, 76, 77, 78, 79, 80, 81, 82, 83, 84, 85, 86, 87, 88, 89, 90, 91, 92, 93, 94, 95, 96, 97, 98, 99, 100, 101, 102, 103, 104, 105, 106, 107, 108, 109, 110, 111, 112, 113, 114, 115, 116, 117, 118, 119, 120, 121, 122, 123, 124, 125, 126, 127, 128, 129, 130, 131, 132, 133, 134, 135, 136, 137, 138, 139, 140, 141, 142, 143, 144, 145, 146, 147, 148, 149, 150, 151, 152, 153, 154, 155, 156, 157, 158, 159, 160, 161, 162],[0, 1, 2, 3, 4, 5, 6, 7, 8, 9, 10, 11, 12, 13, 14, 15, 16, 17, 18, 19, 20, 21, 22, 23, 24, 25, 26, 27, 28, 29, 30, 31, 32, 33, 34, 35, 36, 37, 38, 39, 40, 41, 42, 43, 44, 45, 46, 47, 48, 49, 50, 51, 52, 53, 54, 55, 56, 57, 58, 59, 60, 61, 62, 63, 64, 65, 66, 67, 68, 69, 70, 71, 72, 73, 74, 75, 76, 77, 78, 79, 80, 81, 82, 83, 84, 85, 86, 87, 88, 89, 90, 91, 92, 93, 94, 95, 96, 97, 98, 99, 100, 101, 102, 103, 104, 105, 106, 107, 108, 109, 110, 111, 112, 113, 114, 115, 116, 117, 118, 119, 120, 121, 122, 123, 124, 125, 126, 127, 128, 129, 130, 131, 132, 133, 134, 135, 136, 137, 138, 139, 140, 141, 142, 143, 144, 145, 146, 147, 148, 149, 150, 151, 152, 153, 154, 155, 156, 157],[0, 1, 2, 3, 4, 5, 6, 7, 8, 9, 10, 11, 12, 13, 14, 15, 16, 17, 18, 19, 20, 21, 22, 23, 24, 25, 26, 27, 28, 29, 30, 31, 32, 33, 34, 35, 36, 37, 38, 39, 40, 41, 42, 43, 44, 45, 46, 47, 48, 49, 50, 51, 52, 53, 54, 55, 56, 57, 58, 59, 60, 61, 62, 63, 64, 65, 66, 67, 68, 69, 70, 71, 72, 73, 74, 75, 76, 77, 78, 79, 80, 81, 82, 83, 84, 85, 86, 87, 88, 89, 90, 91, 92, 93, 94, 95, 96, 97, 98, 99, 100, 101, 102, 103, 104, 105, 106, 107, 108, 109, 110, 111, 112, 113, 114, 115, 116, 117, 118, 119, 120, 121, 122, 123, 124, 125, 126, 127, 128, 129, 130, 131, 132, 133, 134, 135, 136, 137, 138, 139, 140, 141, 142, 143, 144, 145, 146, 147, 148, 149, 150, 151, 152, 153, 154, 155, 156, 157, 158, 159, 160, 161]]\n",
    "\n",
    "locs = []\n",
    "orig = []\n",
    "\n",
    "vals = np.array([]).reshape(-1, 100)\n",
    "\n",
    "for i,video in enumerate(videos):\n",
    "    location, y_test = main(video, localized_points=np.array(localized_points[i]), iterations=100, radius_thre=8, d_scale=4, v_scale=0.1)\n",
    "\n",
    "    t, r = calculate_tpr(np.array(location)[np.array(localized_points[i])], np.array(y_test)[np.array(localized_points[i])], maxi=20)\n",
    "\n",
    "    plt.plot(np.array(y_test)[np.array(localized_points[i]),0], np.array(y_test)[np.array(localized_points[i]),1], c='black')\n",
    "    plt.plot(np.array(location)[np.array(localized_points[i]),0], np.array(location)[np.array(localized_points[i]),1], c='red')\n",
    "    plt.show()\n",
    "\n",
    "    print(t)\n",
    "    \n",
    "    vals = np.vstack([vals, t])\n",
    "    locs.append(location)\n",
    "    orig.append(y_test)\n",
    "    \n",
    "print(np.mean(vals, axis=0))"
   ]
  },
  {
   "cell_type": "markdown",
   "metadata": {},
   "source": [
    "# Structure from Motion Method\n",
    "You need to have ran the function definitions in the previous section to make this work"
   ]
  },
  {
   "cell_type": "code",
   "execution_count": 16,
   "metadata": {},
   "outputs": [],
   "source": [
    "import numpy as np\n",
    "import scipy\n",
    "import cv2\n",
    "from sklearn.cluster import KMeans\n",
    "import os\n",
    "import pandas as pd\n",
    "import pickle\n",
    "import shutil\n",
    "import tempfile\n",
    "import Utils.read_model as read_model"
   ]
  },
  {
   "cell_type": "code",
   "execution_count": 17,
   "metadata": {},
   "outputs": [],
   "source": [
    "def nearest_neighbor_classify(train_image_feats, train_labels, test_image_feats, metric='braycurtis', k=1):\n",
    "\n",
    "    distances = scipy.spatial.distance.cdist(test_image_feats, train_image_feats, metric)\n",
    "\n",
    "    #Setup variables, need to be numpy arrays for array indexing\n",
    "    train_labels = np.array(train_labels)\n",
    "    test_labels = np.array([]).reshape(-1,k,2)\n",
    "    indexes = np.array([]).reshape(-1,k)\n",
    "\n",
    "    for i in range(len(test_image_feats)):\n",
    "        \n",
    "        #For every image get the closest k labels        \n",
    "        sorted_distances = np.argsort(distances[i])\n",
    "        closest = train_labels[sorted_distances[:k]]\n",
    "        \n",
    "        test_labels = np.vstack([test_labels, [closest]])\n",
    "        indexes = np.vstack([indexes, sorted_distances[:k]])\n",
    "        \n",
    "    return test_labels, indexes"
   ]
  },
  {
   "cell_type": "code",
   "execution_count": 18,
   "metadata": {},
   "outputs": [],
   "source": [
    "def fine_localization(model_filenames, test_file, locations, directory, max_builds=5):\n",
    "    #Copy Images to Folder\n",
    "    \n",
    "    #shutil.copy(test_file, directory)\n",
    "    cv2.imwrite('{0}/frame.jpg'.format(directory), cv2.cvtColor(test_file, cv2.COLOR_BGR2RGB))\n",
    "    \n",
    "    for image in model_filenames:\n",
    "        shutil.copy(image, directory)\n",
    "    \n",
    "    #Create Locations.txt for geolocalization\n",
    "    with open(\"{0}/locations.txt\".format(directory), \"w\") as text_file:\n",
    "        for i in range(len(model_filenames)):\n",
    "            text_file.write(\"{0} {1} {2} 0\\n\".format(model_filenames[i].split('/')[-1], locations[i][0], locations[i][1]))\n",
    "    \n",
    "    \n",
    "    #Create reconstruction\n",
    "    builds = 0\n",
    "    while builds < max_builds:\n",
    "        #print(builds)\n",
    "        !call Colmap\\colmap.bat automatic_reconstructor --workspace_path $directory --image_path $directory --vocab_tree_path .\\Output\\vocab-sift-500.npy --single_camera 1 >NUL\n",
    "        \n",
    "        if os.path.exists('{0}/sparse/0/cameras.bin'.format(directory)):\n",
    "            builds = max_builds\n",
    "        else:\n",
    "            if (builds == max_builds-1):\n",
    "                return {model_filenames[i]:locations[i] for i in range(len(model_filenames))}\n",
    "        \n",
    "        builds += 1\n",
    "    \n",
    "    !mkdir $directory\\sparse\\1\\\n",
    "    \n",
    "    !call Colmap\\colmap model_aligner --input_path $directory\\sparse\\0\\ --output_path $directory\\sparse\\1\\ --ref_images_path $directory\\locations.txt --robust_alignment 1 --robust_alignment_max_error 1 >NUL\n",
    "\n",
    "    \n",
    "    #Get results of reconstruction\n",
    "    if os.path.exists('{0}/sparse/1/cameras.bin'.format(directory)):\n",
    "        cameras, images, points3D = read_model.read_model(path='{0}/sparse/1/'.format(directory), ext=\".bin\")\n",
    "    else:\n",
    "        return {model_filenames[i]:locations[i] for i in range(len(model_filenames))}\n",
    "    \n",
    "    #Find location of test_file in image locations\n",
    "    #IMAGE_ID, QW, QX, QY, QZ, TX, TY, TZ, CAMERA_ID, NAME\n",
    "    locations = {}\n",
    "    for key in images.keys():\n",
    "        rotational = quaternion_rotation_matrix(images[key].qvec)\n",
    "        translation = images[key].tvec\n",
    "        locations[images[key].name] = np.matmul(-(rotational.T), translation)\n",
    "    \n",
    "    #Return image location\n",
    "    return locations"
   ]
  },
  {
   "cell_type": "code",
   "execution_count": 19,
   "metadata": {},
   "outputs": [],
   "source": [
    "def localize_images(model_filenames, test_files, locations):\n",
    "    \n",
    "        results = []\n",
    "        \n",
    "        for i in range(len(test_files)):\n",
    "            print(i)\n",
    "            with tempfile.TemporaryDirectory() as directory:\n",
    "                #print('The created temporary directory is %s' % directory)\n",
    "                result = fine_localization(model_filenames[i], test_files[i], locations[i], directory)\n",
    "                results.append(result)\n",
    "\n",
    "        \n",
    "        return results"
   ]
  },
  {
   "cell_type": "code",
   "execution_count": 20,
   "metadata": {},
   "outputs": [],
   "source": [
    "def quaternion_rotation_matrix(Q):\n",
    "    \"\"\"\n",
    "    Covert a quaternion into a full three-dimensional rotation matrix.\n",
    " \n",
    "    Input\n",
    "    :param Q: A 4 element array representing the quaternion (q0,q1,q2,q3) \n",
    " \n",
    "    Output\n",
    "    :return: A 3x3 element matrix representing the full 3D rotation matrix. \n",
    "             This rotation matrix converts a point in the local reference \n",
    "             frame to a point in the global reference frame.\n",
    "    \"\"\"\n",
    "    # Extract the values from Q\n",
    "    q0 = Q[0]\n",
    "    q1 = Q[1]\n",
    "    q2 = Q[2]\n",
    "    q3 = Q[3]\n",
    "     \n",
    "    # First row of the rotation matrix\n",
    "    r00 = 2 * (q0 * q0 + q1 * q1) - 1\n",
    "    r01 = 2 * (q1 * q2 - q0 * q3)\n",
    "    r02 = 2 * (q1 * q3 + q0 * q2)\n",
    "     \n",
    "    # Second row of the rotation matrix\n",
    "    r10 = 2 * (q1 * q2 + q0 * q3)\n",
    "    r11 = 2 * (q0 * q0 + q2 * q2) - 1\n",
    "    r12 = 2 * (q2 * q3 - q0 * q1)\n",
    "     \n",
    "    # Third row of the rotation matrix\n",
    "    r20 = 2 * (q1 * q3 - q0 * q2)\n",
    "    r21 = 2 * (q2 * q3 + q0 * q1)\n",
    "    r22 = 2 * (q0 * q0 + q3 * q3) - 1\n",
    "     \n",
    "    # 3x3 rotation matrix\n",
    "    rot_matrix = np.array([[r00, r01, r02],\n",
    "                           [r10, r11, r12],\n",
    "                           [r20, r21, r22]])\n",
    "                            \n",
    "    return rot_matrix"
   ]
  },
  {
   "cell_type": "code",
   "execution_count": 21,
   "metadata": {},
   "outputs": [],
   "source": [
    "images = load_images('../Dataset/Locations/locations.txt')\n",
    "\n",
    "X_train, y_train = images['location'], list(zip(images['x'], images['y']))\n",
    "\n",
    "X_test, y_test = Video.load_video_to_frames('../Dataset/Videos/vary-speed#1.mp4', step=6)"
   ]
  },
  {
   "cell_type": "code",
   "execution_count": 22,
   "metadata": {},
   "outputs": [],
   "source": [
    "params = dict(nOctaveLayers=3, contrastThreshold=0.04, edgeThreshold=7, sigma=1.8)\n",
    "train_image_feats = get_bags_of_words(X_train, cv2.SIFT_create, params, vocab_file='./Models/vocab-sift-1000.npy')\n",
    "test_image_feats = get_bags_of_words(X_test, cv2.SIFT_create, params, vocab_file='./Models/vocab-sift-1000.npy')"
   ]
  },
  {
   "cell_type": "code",
   "execution_count": 23,
   "metadata": {},
   "outputs": [],
   "source": [
    "labels, indexes = nearest_neighbor_classify(train_image_feats, y_train, test_image_feats, k=5)\n",
    "model_filenames = X_train.values[indexes.astype(int)].astype(str)\n",
    "test_files = X_test\n",
    "locations = labels"
   ]
  },
  {
   "cell_type": "code",
   "execution_count": null,
   "metadata": {},
   "outputs": [],
   "source": [
    "fine_localization_objs = localize_images(model_filenames, test_files, locations)\n",
    "\n",
    "fine_localizations = np.array([]).reshape(-1,2)\n",
    "n = 0\n",
    "\n",
    "for i, obj in enumerate(fine_localization_objs):\n",
    "    if (len(obj.keys()) == 6):\n",
    "        n += 1\n",
    "    try:\n",
    "        loc = obj[test_filenames[i]]\n",
    "        \n",
    "    except:\n",
    "        loc = obj[list(obj.keys())[0]] #single closest match\n",
    "        \n",
    "\n",
    "    fine_localizations = np.vstack([fine_localizations,loc[:2]])\n",
    "    \n",
    "print('Fine localization was used on {0} out of {1} test images'.format(n, len(fine_localization_objs)))"
   ]
  },
  {
   "cell_type": "code",
   "execution_count": null,
   "metadata": {},
   "outputs": [],
   "source": [
    "def plot(locs, orig, localized_points):\n",
    "    lol = []\n",
    "\n",
    "    diff = np.array(locs)[localized_points] - np.array(orig)[localized_points]\n",
    "\n",
    "    for d,v in diff:\n",
    "        lol.append(np.sqrt((d**2) + (v**2)))\n",
    "\n",
    "    return lol"
   ]
  },
  {
   "cell_type": "code",
   "execution_count": null,
   "metadata": {},
   "outputs": [],
   "source": [
    "crash_points = [[0,  1,  2,  3,  4,  5,  6,  7,  8,  9,  10,  11,  12,  13,  14,  15,  16,  17,  18,  19,  20,  21,  22,  23,  24,  25,  26,  27,  28,  29,  30,  31,  32,  33,  34,  36,  37,  39,  40,  44,  45,  46,  47,  48,  49,  50,  51,  52,  55,  57,  58,  59,  60,  61,  62,  63,  64,  65,  66,  67,  68,  69,  70,  71,  72,  73,  74,  75,  76,  77,  78,  79,  80,  81,  82,  83,  84,  85,  86,  87,  88,  89,  90,  91,  92,  93,  94,  95,  96,  97,  98,  99,  100,  101,  102],[0, 1, 2, 3, 4, 5, 6, 7, 8, 9, 10, 11, 12, 13, 14, 15, 16, 17, 18, 19, 20, 21, 22, 23, 24, 25, 26, 27, 28, 29, 30, 32, 33, 34, 37, 38, 39, 40, 41, 42, 43, 44, 45, 46, 47, 48, 49, 50, 51, 52, 53, 54, 55, 56, 57, 58, 59, 60, 61, 62, 63, 64, 65, 66, 67, 68, 69, 70, 71, 72, 73, 74, 75, 76, 77, 78, 79, 80, 81, 82, 83, 84, 85, 86, 87, 88, 89, 90, 91, 92, 93, 94, 95, 96, 97, 98, 99, 100, 101, 102, 103, 104, 105, 106, 107, 108, 109, 110, 111, 112, 113, 114, 115, 116, 117, 118, 119, 120, 121, 122, 123, 124, 126, 127, 128, 129, 130, 131, 132, 133, 134], [0, 1, 2, 3, 4, 5, 6, 7, 8, 9, 10, 11, 12, 13, 14, 15, 16, 17, 18, 19, 20, 21, 22, 23, 24, 25, 26, 27, 28, 29, 30, 31, 32, 33, 34, 35, 36, 37, 38, 39, 40, 41, 42, 43, 44, 45, 46, 47, 48, 49, 50, 51, 52, 53, 54, 55, 56, 60, 61, 62, 63, 64, 65, 66, 67, 68, 69]]\n",
    "\n",
    "plt.plot(plot(fine_localizations, y_test, crash_points[0]))\n",
    "plt.xlabel('Step')\n",
    "plt.ylabel('Position Error (pixels)')"
   ]
  },
  {
   "cell_type": "code",
   "execution_count": null,
   "metadata": {},
   "outputs": [],
   "source": []
  }
 ],
 "metadata": {
  "kernelspec": {
   "display_name": "Python 3",
   "language": "python",
   "name": "python3"
  },
  "language_info": {
   "codemirror_mode": {
    "name": "ipython",
    "version": 3
   },
   "file_extension": ".py",
   "mimetype": "text/x-python",
   "name": "python",
   "nbconvert_exporter": "python",
   "pygments_lexer": "ipython3",
   "version": "3.8.5"
  }
 },
 "nbformat": 4,
 "nbformat_minor": 4
}
